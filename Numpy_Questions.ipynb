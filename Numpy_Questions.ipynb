{
  "cells": [
    {
      "cell_type": "markdown",
      "metadata": {
        "id": "KdERlTpFuL5V"
      },
      "source": [
        "# Exercises"
      ]
    },
    {
      "cell_type": "markdown",
      "metadata": {
        "id": "to-gsrQyuL5Z"
      },
      "source": [
        "### #1 - Calculate the BMI (body mass index) on the two lists below using NDArrays..."
      ]
    },
    {
      "cell_type": "code",
      "execution_count": 29,
      "metadata": {
        "id": "iZlf9DzeuL5a",
        "colab": {
          "base_uri": "https://localhost:8080/"
        },
        "outputId": "3e7f95d0-4536-4c3f-9041-1c981118034a"
      },
      "outputs": [
        {
          "output_type": "stream",
          "name": "stdout",
          "text": [
            "Body Mass Index:\n",
            "\n",
            "16.866\n",
            "17.878\n",
            "18.826\n",
            "19.715\n",
            "20.548\n",
            "21.329\n",
            "22.062\n"
          ]
        }
      ],
      "source": [
        "import numpy as np\n",
        "# formula = weight / (height**2) * 730\n",
        "height = [69, 70, 71, 72, 73, 74, 75]\n",
        "weight = [110, 120, 130, 140, 150, 160, 170]\n",
        "\n",
        "nd_height = np.array(height)\n",
        "nd_weight = np.array(weight)\n",
        "\n",
        "\n",
        "bmi = nd_weight / (nd_height**2) * 730\n",
        "print(\"Body Mass Index:\\n\")\n",
        "for metric in bmi:\n",
        "  print(round(metric,3))\n",
        "\n"
      ]
    },
    {
      "cell_type": "markdown",
      "metadata": {
        "id": "RSsT8w8ouL5b"
      },
      "source": [
        "### #2 - Create a function that will take in two parameters and will create a random matrix based off of those parameters. Extra: Have additional parameters taken in that allow the user to choose the shape and data type of the matrix."
      ]
    },
    {
      "cell_type": "code",
      "execution_count": 30,
      "metadata": {
        "id": "ygFvj0aeuL5b",
        "colab": {
          "base_uri": "https://localhost:8080/"
        },
        "outputId": "d9e2ac28-ab05-40d7-cd87-02a727588bcb"
      },
      "outputs": [
        {
          "output_type": "execute_result",
          "data": {
            "text/plain": [
              "array([[1., 2., 4., 5.],\n",
              "       [6., 7., 8., 2.],\n",
              "       [5., 6., 6., 7.],\n",
              "       [8., 9., 4., 5.]])"
            ]
          },
          "metadata": {},
          "execution_count": 30
        }
      ],
      "source": [
        "\n",
        "def make_matrix(array_1, array_2, shape_row, shape_col, datatype):\n",
        "    m = [array_1, array_2]\n",
        "    nd_m = np.array(m)\n",
        "    change_size = nd_m.reshape(shape_row, shape_col)\n",
        "    custom_matrix = change_size.astype(datatype)\n",
        "    return custom_matrix\n",
        "\n",
        "list_1 = [1, 2, 4, 5, 6, 7, 8, 2]\n",
        "list_2 = [5, 6, 6, 7, 8, 9, 4, 5]\n",
        "\n",
        "make_matrix(list_1, list_2, 4, 4, np.float64)\n",
        "    \n",
        "\n",
        "\n",
        "\n",
        "\n",
        "\n",
        "\n",
        "  \n"
      ]
    },
    {
      "cell_type": "markdown",
      "metadata": {
        "id": "e5mP1UX9uL5c"
      },
      "source": [
        "### #3 - Extra: Open and load the data in the two text files that have the Boston Red Sox hitting data for the past seasons. Compare the difference in the two years by putting the data into an NDArray and running a differencial operation on it. The column to look for will be SLG.\n",
        "\n",
        "Your output should display which year (either 2017 or 2018) was a better year based on SLG"
      ]
    },
    {
      "cell_type": "code",
      "execution_count": 17,
      "metadata": {
        "id": "iAExC-SjuL5c"
      },
      "outputs": [],
      "source": [
        "import csv\n",
        "import numpy as np\n",
        "\n"
      ]
    },
    {
      "cell_type": "code",
      "execution_count": 31,
      "metadata": {
        "id": "P8Rwr8lmuL5e",
        "colab": {
          "base_uri": "https://localhost:8080/"
        },
        "outputId": "ada598f1-9c8d-40c7-af36-8d471a6c83b5"
      },
      "outputs": [
        {
          "output_type": "stream",
          "name": "stdout",
          "text": [
            "The Boston Red Sox had a higher team slugging (SLG) percentage in 2017: 0.393\n"
          ]
        }
      ],
      "source": [
        "FIELDS = ['Rk', 'Pos', 'Name', 'Age', 'G', 'PA', 'AB', 'R', 'H', '2B', '3B', 'HR', 'RBI', 'SB', 'CS', \n",
        "          'BB', 'SO', 'BA', 'OBP', 'SLG', 'OPS', 'OPS+', 'TB', 'GDP', 'HBP', 'SH', 'SF', 'IBB']\n",
        "\n",
        "DATATYPES = [('rk', 'i'), ('pos', '|S25'), ('name', '|S25'), ('age', 'i'), ('g', 'i'), ('pa', 'i'), ('ab', 'i'),\n",
        "                ('r', 'i'), ('h', 'i'), ('2b', 'i'), ('3b', 'i'), ('hr', 'i'), ('rbi', 'i'), ('sb', 'i'), ('cs', 'i'),\n",
        "                ('bb', 'i'), ('so', 'i'), ('ba', 'f'), ('obp', 'f'), ('slg', 'f'), ('ops', 'f'), ('opsp', 'i'),\n",
        "                ('tb', 'i'), ('gdp', 'i'), ('hbp', 'i'), ('sh', 'i'), ('sf', 'i'), ('ibb', 'i')]\n",
        "\n",
        "#Use this function to actually open the data inside of a NDArray\n",
        "\n",
        "def upload_data(filename, d = ','):\n",
        "    data = np.genfromtxt(filename, delimiter = d, skip_header = 1,\n",
        "                         usecols = np.arange(0,24), invalid_raise= False,\n",
        "                         names = FIELDS, dtype = DATATYPES)\n",
        "    return data\n",
        "\n",
        "brs2017 = upload_data('redsox_2017_hitting.txt')\n",
        "brs2018 = upload_data('redsox_2018_hitting.txt')\n",
        "\n",
        "\n",
        "avg_slg_2017 = sum(brs2017['SLG']) / len(brs2017)\n",
        "avg_slg_2018 = sum(brs2018['SLG']) / len(brs2018)\n",
        "\n",
        "if avg_slg_2017 > avg_slg_2018:\n",
        "  print(f'The Boston Red Sox had a higher team slugging (SLG) percentage in 2017: {round(avg_slg_2017, 3)}')\n",
        "else:\n",
        "  print(f'The Boston Red Sox had a higher team slugging (SLG) percentage in 2018: {round(avg_slg_2018, 3)}')\n",
        "\n",
        "\n",
        "\n",
        "\n"
      ]
    }
  ],
  "metadata": {
    "kernelspec": {
      "display_name": "Python 3",
      "language": "python",
      "name": "python3"
    },
    "language_info": {
      "codemirror_mode": {
        "name": "ipython",
        "version": 3
      },
      "file_extension": ".py",
      "mimetype": "text/x-python",
      "name": "python",
      "nbconvert_exporter": "python",
      "pygments_lexer": "ipython3",
      "version": "3.7.3"
    },
    "colab": {
      "provenance": [],
      "collapsed_sections": []
    }
  },
  "nbformat": 4,
  "nbformat_minor": 0
}